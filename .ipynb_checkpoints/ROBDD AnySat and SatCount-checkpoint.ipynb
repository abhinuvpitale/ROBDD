{
 "cells": [
  {
   "cell_type": "markdown",
   "metadata": {},
   "source": [
    "##### Testing the SatCount and AnySat"
   ]
  },
  {
   "cell_type": "markdown",
   "metadata": {},
   "source": [
    "#### AnySat Function\n",
    "-  Returns one satisfying condition which makes the given expression true.\n",
    "-  Recursive function, which tries to reach the Node 1 and then returns the satisfying condition\n",
    "\n",
    "`list(x0,x1,x2....)<-anySat(self)`\n",
    "\n",
    "#### SatCount Function\n",
    "-  Finds total number of satisfying conditions for a given expression\n",
    "-  Recursive function which traverses through through the nodes and finds all possible paths to Node 1\n",
    "\n",
    "`count<-satCount(self)`"
   ]
  },
  {
   "cell_type": "code",
   "execution_count": 8,
   "metadata": {
    "collapsed": true
   },
   "outputs": [],
   "source": [
    "from ROBDD import ROBDD\n",
    "import time"
   ]
  },
  {
   "cell_type": "markdown",
   "metadata": {},
   "source": [
    "#### Test Case 1 - Simple Test Case\n",
    "\n",
    "Create a ROBDD with 3 variables and the following equation:-\n",
    "\n",
    "`or(equiv(x0,x1),x2)`"
   ]
  },
  {
   "cell_type": "code",
   "execution_count": 4,
   "metadata": {},
   "outputs": [
    {
     "name": "stdout",
     "output_type": "stream",
     "text": [
      "Count of Satisfying Conditions is (SatCount) -> 6.0\n",
      "One of the satisfying conditions is (AnySat) -> [0, 0, -1]\n",
      "Time Spent\n"
     ]
    },
    {
     "data": {
      "text/plain": [
       "0.0009443057096291678"
      ]
     },
     "execution_count": 4,
     "metadata": {},
     "output_type": "execute_result"
    }
   ],
   "source": [
    "start = time.clock()\n",
    "ROBDD1 = ROBDD(nVars = 3,switch = 0)\n",
    "count = ROBDD1.satCount()\n",
    "print('Count of Satisfying Conditions is (SatCount) -> '+str(count))\n",
    "anySatX = ROBDD1.anySat(None)\n",
    "print('One of the satisfying conditions is (AnySat) -> '+str(anySatX))\n",
    "print('Time Spent')\n",
    "time.clock() - start"
   ]
  },
  {
   "cell_type": "markdown",
   "metadata": {},
   "source": [
    "#### Test Case 2 - Increasing the Number of Variables\n",
    "Create a ROBDD with 8 variables and the following equation:-\n",
    "\n",
    "`and(and(and(x0,x1),and(x2,x3)),and(and(x4,x5),and(x6,x7)))`"
   ]
  },
  {
   "cell_type": "code",
   "execution_count": 5,
   "metadata": {},
   "outputs": [
    {
     "name": "stdout",
     "output_type": "stream",
     "text": [
      "Count of Satisfying Conditions is (SatCount) -> 1.0\n",
      "One of the satisfying conditions is (AnySat) -> [1, 1, 1, 1, 1, 1, 1, 1]\n",
      "Time Spent\n"
     ]
    },
    {
     "data": {
      "text/plain": [
       "0.0011865529174457379"
      ]
     },
     "execution_count": 5,
     "metadata": {},
     "output_type": "execute_result"
    }
   ],
   "source": [
    "start = time.clock()\n",
    "ROBDD2 = ROBDD(nVars = 8,switch = 3)\n",
    "count = ROBDD2.satCount()\n",
    "print('Count of Satisfying Conditions is (SatCount) -> '+str(count))\n",
    "anySatX = ROBDD2.anySat(None)\n",
    "print('One of the satisfying conditions is (AnySat) -> '+str(anySatX))\n",
    "print('Time Spent')\n",
    "time.clock() - start"
   ]
  },
  {
   "cell_type": "markdown",
   "metadata": {},
   "source": [
    "#### Test Case 3 - Negative Test Case\n",
    "This test case check when no condition satisfies the expression\n",
    "Create a ROBDD with 1 variables and the following equation:-\n",
    "\n",
    "`and(0,x0)`"
   ]
  },
  {
   "cell_type": "code",
   "execution_count": 9,
   "metadata": {},
   "outputs": [
    {
     "name": "stdout",
     "output_type": "stream",
     "text": [
      "Count of Satisfying Conditions is (SatCount) -> 2.0\n",
      "One of the satisfying conditions is (AnySat) -> [-1]\n",
      "Time Spent\n"
     ]
    },
    {
     "data": {
      "text/plain": [
       "0.00041326597897750617"
      ]
     },
     "execution_count": 9,
     "metadata": {},
     "output_type": "execute_result"
    }
   ],
   "source": [
    "start = time.clock()\n",
    "ROBDD3 = ROBDD(nVars = 1,switch = 4)\n",
    "count = ROBDD3.satCount()\n",
    "print('Count of Satisfying Conditions is (SatCount) -> '+str(count))\n",
    "anySatX = ROBDD3.anySat(None)\n",
    "print('One of the satisfying conditions is (AnySat) -> '+str(anySatX))\n",
    "print('Time Spent')\n",
    "time.clock() - start"
   ]
  },
  {
   "cell_type": "code",
   "execution_count": null,
   "metadata": {
    "collapsed": true
   },
   "outputs": [],
   "source": []
  }
 ],
 "metadata": {
  "kernelspec": {
   "display_name": "Python 3",
   "language": "python",
   "name": "python3"
  },
  "language_info": {
   "codemirror_mode": {
    "name": "ipython",
    "version": 3
   },
   "file_extension": ".py",
   "mimetype": "text/x-python",
   "name": "python",
   "nbconvert_exporter": "python",
   "pygments_lexer": "ipython3",
   "version": "3.6.3"
  }
 },
 "nbformat": 4,
 "nbformat_minor": 2
}
