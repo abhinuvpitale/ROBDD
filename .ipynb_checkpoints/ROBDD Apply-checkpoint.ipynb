{
 "cells": [
  {
   "cell_type": "markdown",
   "metadata": {},
   "source": [
    "##### ROBDD Apply"
   ]
  },
  {
   "cell_type": "markdown",
   "metadata": {},
   "source": [
    "#### class Apply\n",
    "- class Apply inherits from the ROBDD.\n",
    "\n",
    "`class Apply_ROBDD(ROBDD)`\n",
    "\n",
    "#### function Apply\n",
    "-  This recursive function builds a new table, taking an operation op as input with two different ROBDDS r1,r2\n",
    "\n",
    "`ROBDD<-apply(self,op,r1,r2)`"
   ]
  },
  {
   "cell_type": "code",
   "execution_count": 1,
   "metadata": {
    "collapsed": true
   },
   "outputs": [],
   "source": [
    "from ROBDD import ROBDD,Apply_ROBDD\n",
    "import time"
   ]
  },
  {
   "cell_type": "code",
   "execution_count": 2,
   "metadata": {
    "collapsed": true
   },
   "outputs": [],
   "source": [
    "# Quick and Easy print Table Function for ROBDDs\n",
    "def printROBDD(ROBDD):    \n",
    "    print('============================')\n",
    "    print('|  u  |  i  |   l  |   h  |')\n",
    "    print('============================')    \n",
    "    n = ROBDD.nNodes\n",
    "    for idx in range(0,n):\n",
    "        node = ROBDD.T[idx]       \n",
    "        print('   '+str(idx)+'     '+str(node[0])+'     '+str(node[1])+'     '+str(node[2])+'  ')\n",
    "        print('---------------------------')"
   ]
  },
  {
   "cell_type": "markdown",
   "metadata": {},
   "source": [
    "#### Test Case 1 - Simple Test Case\n",
    "\n",
    "Create a ROBDDs with 3 variables and the following equations:-\n",
    "\n",
    "ROBDD1 = `or(equiv(x0,x1),x2)`\n",
    "\n",
    "ROBDD2 = `equiv(and(x0,x1),x2)`\n",
    "\n",
    "operation = `and`"
   ]
  },
  {
   "cell_type": "code",
   "execution_count": 3,
   "metadata": {
    "collapsed": true
   },
   "outputs": [],
   "source": [
    "ROBDD1 = ROBDD(3,0)\n",
    "ROBDD2 = ROBDD(3,1)"
   ]
  },
  {
   "cell_type": "code",
   "execution_count": 4,
   "metadata": {},
   "outputs": [
    {
     "data": {
      "text/plain": [
       "0.0001611455225170014"
      ]
     },
     "execution_count": 4,
     "metadata": {},
     "output_type": "execute_result"
    }
   ],
   "source": [
    "start = time.clock()\n",
    "ROBDD_Applied = Apply_ROBDD(3)\n",
    "ROBDD_Applied.apply('and',ROBDD1,ROBDD2)\n",
    "time.clock() - start\n"
   ]
  },
  {
   "cell_type": "code",
   "execution_count": 5,
   "metadata": {},
   "outputs": [
    {
     "name": "stdout",
     "output_type": "stream",
     "text": [
      "============================\n",
      "|  u  |  i  |   l  |   h  |\n",
      "============================\n",
      "   0     4     -1     -1  \n",
      "---------------------------\n",
      "   1     4     -2     -2  \n",
      "---------------------------\n",
      "   2     2     1     0  \n",
      "---------------------------\n",
      "   3     1     2     0  \n",
      "---------------------------\n",
      "   4     2     0     1  \n",
      "---------------------------\n",
      "   5     1     0     4  \n",
      "---------------------------\n",
      "   6     0     3     5  \n",
      "---------------------------\n"
     ]
    }
   ],
   "source": [
    "printROBDD(ROBDD_Applied)"
   ]
  },
  {
   "cell_type": "markdown",
   "metadata": {},
   "source": [
    "#### Test Case 2 - Increasing number of variables and testing with different number of variables\n",
    "\n",
    "Create ROBDDs with different number of variables\n",
    "\n",
    "ROBDD1 = `and(or(equiv(x0,x1),x2),x3)`\n",
    "\n",
    "ROBDD2 = `equiv(and(x0,x1),x2)`\n",
    "\n",
    "operation = `or`"
   ]
  },
  {
   "cell_type": "code",
   "execution_count": 15,
   "metadata": {
    "collapsed": true
   },
   "outputs": [],
   "source": [
    "ROBDD1 = ROBDD(4,0)\n",
    "ROBDD2 = ROBDD(3,1)"
   ]
  },
  {
   "cell_type": "code",
   "execution_count": 16,
   "metadata": {},
   "outputs": [
    {
     "data": {
      "text/plain": [
       "0.00017348708331610396"
      ]
     },
     "execution_count": 16,
     "metadata": {},
     "output_type": "execute_result"
    }
   ],
   "source": [
    "start = time.clock()\n",
    "ROBDD_Applied = Apply_ROBDD(4)\n",
    "ROBDD_Applied.apply('and',ROBDD1,ROBDD2)\n",
    "time.clock() - start\n"
   ]
  },
  {
   "cell_type": "code",
   "execution_count": 17,
   "metadata": {},
   "outputs": [
    {
     "name": "stdout",
     "output_type": "stream",
     "text": [
      "============================\n",
      "|  u  |  i  |   l  |   h  |\n",
      "============================\n",
      "   0     5     -1     -1  \n",
      "---------------------------\n",
      "   1     5     -2     -2  \n",
      "---------------------------\n",
      "   2     2     1     0  \n",
      "---------------------------\n",
      "   3     1     2     0  \n",
      "---------------------------\n",
      "   4     2     0     1  \n",
      "---------------------------\n",
      "   5     1     0     4  \n",
      "---------------------------\n",
      "   6     0     3     5  \n",
      "---------------------------\n"
     ]
    }
   ],
   "source": [
    "printROBDD(ROBDD_Applied)"
   ]
  },
  {
   "cell_type": "code",
   "execution_count": null,
   "metadata": {
    "collapsed": true
   },
   "outputs": [],
   "source": []
  }
 ],
 "metadata": {
  "kernelspec": {
   "display_name": "Python 3",
   "language": "python",
   "name": "python3"
  },
  "language_info": {
   "codemirror_mode": {
    "name": "ipython",
    "version": 3
   },
   "file_extension": ".py",
   "mimetype": "text/x-python",
   "name": "python",
   "nbconvert_exporter": "python",
   "pygments_lexer": "ipython3",
   "version": "3.6.3"
  }
 },
 "nbformat": 4,
 "nbformat_minor": 2
}
