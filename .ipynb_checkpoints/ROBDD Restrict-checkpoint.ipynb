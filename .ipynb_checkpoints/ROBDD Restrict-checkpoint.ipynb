{
 "cells": [
  {
   "cell_type": "markdown",
   "metadata": {},
   "source": [
    "##### ROBDD Restict"
   ]
  },
  {
   "cell_type": "markdown",
   "metadata": {},
   "source": [
    "#### Restrict Function\n",
    "-  This is used to reduce the Expression by setting value of one of the variables to a fixed one.\n",
    "-  The function takes j as variable name (i.e x[j]) and set it to a value 'b' (x[j]=b) and returns a new table\n",
    "\n",
    "`Table<-restrict(self,node=None,j=0,b=0)`\n"
   ]
  },
  {
   "cell_type": "code",
   "execution_count": 3,
   "metadata": {
    "collapsed": true
   },
   "outputs": [],
   "source": [
    "from ROBDD import ROBDD\n",
    "import time"
   ]
  },
  {
   "cell_type": "code",
   "execution_count": 4,
   "metadata": {
    "collapsed": true
   },
   "outputs": [],
   "source": [
    "# Quick and Easy print Table Function for ROBDDs\n",
    "def printROBDD(table,n):    \n",
    "    print('============================')\n",
    "    print('|  u  |  i  |   l  |   h  |')\n",
    "    print('============================')    \n",
    "    for idx in range(0,n):\n",
    "        node = table[idx]       \n",
    "        print('   '+str(idx)+'     '+str(node[0])+'     '+str(node[1])+'     '+str(node[2])+'  ')\n",
    "        print('---------------------------')"
   ]
  },
  {
   "cell_type": "markdown",
   "metadata": {},
   "source": [
    "#### Test Case 1 - Simple Test Case\n",
    "\n",
    "Create a ROBDD with 3 variables and the following equation:-\n",
    "\n",
    "`or(equiv(x0,x1),x2)`"
   ]
  },
  {
   "cell_type": "code",
   "execution_count": 5,
   "metadata": {},
   "outputs": [
    {
     "name": "stdout",
     "output_type": "stream",
     "text": [
      "Time Spent\n"
     ]
    },
    {
     "data": {
      "text/plain": [
       "0.0003106547162745694"
      ]
     },
     "execution_count": 5,
     "metadata": {},
     "output_type": "execute_result"
    }
   ],
   "source": [
    "start = time.clock()\n",
    "ROBDD1 = ROBDD(nVars = 3,switch = 0)\n",
    "print('Time Spent')\n",
    "time.clock() - start"
   ]
  },
  {
   "cell_type": "code",
   "execution_count": 6,
   "metadata": {},
   "outputs": [
    {
     "name": "stdout",
     "output_type": "stream",
     "text": [
      "============================\n",
      "|  u  |  i  |   l  |   h  |\n",
      "============================\n",
      "   0     4     -1     -1  \n",
      "---------------------------\n",
      "   1     4     -2     -2  \n",
      "---------------------------\n",
      "   2     2     0     1  \n",
      "---------------------------\n",
      "   3     1     1     2  \n",
      "---------------------------\n",
      "   4     1     2     1  \n",
      "---------------------------\n",
      "   5     0     3     4  \n",
      "---------------------------\n"
     ]
    }
   ],
   "source": [
    "printROBDD(ROBDD1.T,ROBDD1.nNodes)"
   ]
  },
  {
   "cell_type": "markdown",
   "metadata": {},
   "source": [
    "We will now restrict x[1] = 0"
   ]
  },
  {
   "cell_type": "code",
   "execution_count": 7,
   "metadata": {
    "collapsed": true
   },
   "outputs": [],
   "source": [
    "start = time.clock()\n",
    "ROBDD1.restrict(None,j=1,b=0)\n",
    "print('Time Spent')\n",
    "time.clock() - start"
   ]
  },
  {
   "cell_type": "code",
   "execution_count": 9,
   "metadata": {},
   "outputs": [
    {
     "name": "stdout",
     "output_type": "stream",
     "text": [
      "============================\n",
      "|  u  |  i  |   l  |   h  |\n",
      "============================\n",
      "   0     4     -1     -1  \n",
      "---------------------------\n",
      "   1     4     -2     -2  \n",
      "---------------------------\n",
      "   2     2     0     1  \n",
      "---------------------------\n",
      "   3     0     1     2  \n",
      "---------------------------\n"
     ]
    }
   ],
   "source": [
    "printROBDD(ROBDD1.T_,ROBDD1.nNodes_)"
   ]
  },
  {
   "cell_type": "markdown",
   "metadata": {},
   "source": [
    "#### Test Case 2 - Increasing the Number of Variables\n",
    "Create a ROBDD with 8 variables and the following equation:-\n",
    "\n",
    "`and(and(and(x0,x1),and(x2,x3)),and(and(x4,x5),and(x6,x7)))`"
   ]
  },
  {
   "cell_type": "code",
   "execution_count": 19,
   "metadata": {},
   "outputs": [
    {
     "name": "stdout",
     "output_type": "stream",
     "text": [
      "Time Spent\n"
     ]
    },
    {
     "data": {
      "text/plain": [
       "0.001032812331459354"
      ]
     },
     "execution_count": 19,
     "metadata": {},
     "output_type": "execute_result"
    }
   ],
   "source": [
    "start = time.clock()\n",
    "ROBDD2 = ROBDD(nVars = 8,switch = 3)\n",
    "print('Time Spent')\n",
    "time.clock() - start"
   ]
  },
  {
   "cell_type": "code",
   "execution_count": 20,
   "metadata": {},
   "outputs": [
    {
     "name": "stdout",
     "output_type": "stream",
     "text": [
      "============================\n",
      "|  u  |  i  |   l  |   h  |\n",
      "============================\n",
      "   0     9     -1     -1  \n",
      "---------------------------\n",
      "   1     9     -2     -2  \n",
      "---------------------------\n",
      "   2     7     0     1  \n",
      "---------------------------\n",
      "   3     6     0     2  \n",
      "---------------------------\n",
      "   4     5     0     3  \n",
      "---------------------------\n",
      "   5     4     0     4  \n",
      "---------------------------\n",
      "   6     3     0     5  \n",
      "---------------------------\n",
      "   7     2     0     6  \n",
      "---------------------------\n",
      "   8     1     0     7  \n",
      "---------------------------\n",
      "   9     0     0     8  \n",
      "---------------------------\n"
     ]
    }
   ],
   "source": [
    "printROBDD(ROBDD2.T,ROBDD2.nNodes)"
   ]
  },
  {
   "cell_type": "markdown",
   "metadata": {},
   "source": [
    "We will now restrict x[1] = 0 and x[2] = 1"
   ]
  },
  {
   "cell_type": "code",
   "execution_count": 21,
   "metadata": {
    "collapsed": true
   },
   "outputs": [],
   "source": [
    "start = time.clock()\n",
    "ROBDD2.restrict(None,j=1,b=0)\n",
    "print('Time Spent')\n",
    "time.clock() - start\n",
    "#ROBDD2.restrict(None,j=2,b=1)"
   ]
  },
  {
   "cell_type": "code",
   "execution_count": 22,
   "metadata": {},
   "outputs": [
    {
     "name": "stdout",
     "output_type": "stream",
     "text": [
      "============================\n",
      "|  u  |  i  |   l  |   h  |\n",
      "============================\n",
      "   0     9     -1     -1  \n",
      "---------------------------\n",
      "   1     9     -2     -2  \n",
      "---------------------------\n",
      "   2     7     0     1  \n",
      "---------------------------\n",
      "   3     6     0     2  \n",
      "---------------------------\n",
      "   4     5     0     3  \n",
      "---------------------------\n",
      "   5     4     0     4  \n",
      "---------------------------\n",
      "   6     3     0     5  \n",
      "---------------------------\n",
      "   7     2     0     6  \n",
      "---------------------------\n"
     ]
    }
   ],
   "source": [
    "printROBDD(ROBDD2.T_,ROBDD2.nNodes_)"
   ]
  },
  {
   "cell_type": "code",
   "execution_count": null,
   "metadata": {
    "collapsed": true
   },
   "outputs": [],
   "source": []
  }
 ],
 "metadata": {
  "kernelspec": {
   "display_name": "Python 3",
   "language": "python",
   "name": "python3"
  },
  "language_info": {
   "codemirror_mode": {
    "name": "ipython",
    "version": 3
   },
   "file_extension": ".py",
   "mimetype": "text/x-python",
   "name": "python",
   "nbconvert_exporter": "python",
   "pygments_lexer": "ipython3",
   "version": "3.6.3"
  }
 },
 "nbformat": 4,
 "nbformat_minor": 2
}
